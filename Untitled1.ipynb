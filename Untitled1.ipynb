{
 "cells": [
  {
   "cell_type": "code",
   "execution_count": 79,
   "id": "938eff19-d177-4097-a705-33ddb109b35b",
   "metadata": {
    "tags": []
   },
   "outputs": [],
   "source": [
    "from dataclasses import dataclass, field\n",
    "from enum import Enum\n",
    "\n",
    "import datetime\n",
    "import string\n",
    "import random"
   ]
  },
  {
   "cell_type": "code",
   "execution_count": 3,
   "id": "ef735d60-7487-4cfb-b696-f4d22adab391",
   "metadata": {
    "tags": []
   },
   "outputs": [
    {
     "data": {
      "text/plain": [
       "(A point (1.2, 3.5), A point (-2.7, 9.5))"
      ]
     },
     "execution_count": 3,
     "metadata": {},
     "output_type": "execute_result"
    }
   ],
   "source": [
    "@dataclass\n",
    "class Point:\n",
    "    x: float\n",
    "    y: float\n",
    "    \n",
    "    def __repr__(self):\n",
    "        return f'A point ({self.x}, {self.y})'\n",
    "      \n",
    "\n",
    "Point(1.2, 3.5), Point(-2.7, 9.5)"
   ]
  },
  {
   "cell_type": "code",
   "execution_count": 5,
   "id": "5659cb40-f3fe-451e-b8d9-de5120780f57",
   "metadata": {
    "tags": []
   },
   "outputs": [
    {
     "data": {
      "text/plain": [
       "(True, True)"
      ]
     },
     "execution_count": 5,
     "metadata": {},
     "output_type": "execute_result"
    }
   ],
   "source": [
    "@dataclass\n",
    "class Person:\n",
    "    name: str\n",
    "    age: int\n",
    "    \n",
    "    def __repr__(self):\n",
    "        return ''\n",
    "    \n",
    "    def __lt__(self, other):\n",
    "        return self.age < other.age\n",
    "    \n",
    "    \n",
    "ivan = Person('Ivan', 23)\n",
    "niki = Person('Niki', 37)\n",
    "niki2 = Person('Niki', 37)\n",
    "\n",
    "ivan < niki, niki == niki2"
   ]
  },
  {
   "cell_type": "code",
   "execution_count": 10,
   "id": "47540aa9-548d-4f9a-b40b-3e6f3088053a",
   "metadata": {
    "tags": []
   },
   "outputs": [
    {
     "data": {
      "text/plain": [
       "(Car(make='Honda', model='Jazz', year=2012),\n",
       " Car(make='Toyota', model='Corolla', year=1900),\n",
       " True)"
      ]
     },
     "execution_count": 10,
     "metadata": {},
     "output_type": "execute_result"
    }
   ],
   "source": [
    "@dataclass\n",
    "class Car:\n",
    "    make: str\n",
    "    model: str\n",
    "    year: int = 1900\n",
    "    \n",
    "    def __ge__(self, other):\n",
    "        return self.year >= other.year\n",
    "    \n",
    "    def __eq__(self, other):\n",
    "        return self.make == other.make and self.model == other.model\n",
    "    \n",
    "\n",
    "honda = Car('Honda', 'Jazz', 2012)\n",
    "toyota = Car('Toyota', 'Corolla')\n",
    "toyota2 = Car('Toyota', 'Corolla', 2018)\n",
    "    \n",
    "honda, toyota, toyota==toyota2"
   ]
  },
  {
   "cell_type": "code",
   "execution_count": 23,
   "id": "3b65fa57-ca75-4732-aa0d-5a0b0a6e9636",
   "metadata": {
    "tags": []
   },
   "outputs": [
    {
     "data": {
      "text/plain": [
       "[Book(title='1984', publication_year=1949),\n",
       " Book(title='Pride and Prejudice', publication_year=1813),\n",
       " Book(title='The Great Gatsby', publication_year=1925),\n",
       " Book(title='To Kill a Mockingbird', publication_year=1960)]"
      ]
     },
     "execution_count": 23,
     "metadata": {},
     "output_type": "execute_result"
    }
   ],
   "source": [
    "@dataclass(order=True)\n",
    "class Book:\n",
    "    sort_index: int = field(init=False, repr=False)\n",
    "    title:str\n",
    "    author:str = field(repr=False)\n",
    "    publication_year:int\n",
    "    isbn: int = field(repr=False, default=None)\n",
    "    \n",
    "    def __post_init__(self):\n",
    "        self.sort_index = self.title\n",
    "    \n",
    "b1 = Book('The Great Gatsby', 'F. Scott Fitzgerald', 1925)\n",
    "b2 = Book('To Kill a Mockingbird', 'Harper Lee', 1960)\n",
    "b3 = Book('1984', 'George Orwell', 1949)\n",
    "b4 = Book('Pride and Prejudice', 'Jane Austen', 1813)\n",
    "\n",
    "list(sorted([b1, b2, b3, b4]))"
   ]
  },
  {
   "cell_type": "code",
   "execution_count": 46,
   "id": "68ad86f4-4e68-414a-bb8b-19c633bbc242",
   "metadata": {
    "tags": []
   },
   "outputs": [],
   "source": [
    "class TaskStatus(Enum):\n",
    "    PENDING = 'PENDING'\n",
    "    INPROGRESS = 'INPROGRESS'\n",
    "    COMPLETED = 'COMPLETED'\n",
    "    \n",
    "    \n",
    "@dataclass\n",
    "class Task:\n",
    "    description: str\n",
    "    due_by: datetime.date\n",
    "    status: TaskStatus\n",
    "    \n",
    "    def __gt__(self, other):\n",
    "        self.due_by < other.due_by\n",
    "        \n",
    "\n",
    "t1 = Task('do the car insurance', date(2024, 3, 30), TaskStatus.PENDING)\n",
    "t2 = Task('sell the old washing machine', date(2023, 12, 15), TaskStatus.INPROGRESS)\n",
    "\n",
    "t1 < t2"
   ]
  },
  {
   "cell_type": "code",
   "execution_count": 43,
   "id": "2baa8879-5b56-4200-8251-47429572b043",
   "metadata": {
    "tags": []
   },
   "outputs": [
    {
     "data": {
      "text/plain": [
       "True"
      ]
     },
     "execution_count": 43,
     "metadata": {},
     "output_type": "execute_result"
    }
   ],
   "source": [
    "# date(year, month, day) --> date object\n",
    "ico = date(1990, 7, 26)\n",
    "toni = date(1992, 2, 9)\n",
    "\n",
    "ico < toni"
   ]
  },
  {
   "cell_type": "markdown",
   "id": "e65c609d-bead-4f0b-a42c-53867650dbcb",
   "metadata": {
    "tags": []
   },
   "source": [
    "```python\n",
    "@dataclass\n",
    "class Employee:\n",
    "    uid: int\n",
    "    name: str\n",
    "    groups: list[str] = []  -> # ValueError: mutable default <class 'list'> \n",
    "                               # for field groups is not allowed: use default_factory\n",
    "\n",
    "    \n",
    "\n",
    "e1 = Employee(245891, 'Emma Watson', ['Marketing', 'Public Relations'])\n",
    "e2 = Employee(389712, 'John Doe', ['Software Development', 'Quality Assurance'])\n",
    "e3 = Employee(587301, 'Alice Johnson', ['Sales', 'Customer Relations'])\n",
    "\n",
    "e1, e2, e3\n",
    "```"
   ]
  },
  {
   "cell_type": "code",
   "execution_count": 78,
   "id": "d6740a1b-abd2-4045-a37f-8770a6b8e28b",
   "metadata": {},
   "outputs": [
    {
     "data": {
      "text/plain": [
       "(Employee(uid=245891, name='Emma Watson', groups=['Marketing', 'Public Relations']),\n",
       " Employee(uid=389712, name='John Doe', groups=['Software Development', 'Quality Assurance']),\n",
       " Employee(uid=587301, name='Alice Johnson', groups=['Sales', 'Customer Relations']))"
      ]
     },
     "execution_count": 78,
     "metadata": {},
     "output_type": "execute_result"
    }
   ],
   "source": [
    "@dataclass\n",
    "class Employee:\n",
    "    uid: int\n",
    "    name: str\n",
    "    groups: list[str] = field(default_factory=list)\n",
    "    \n",
    "\n",
    "e1 = Employee(245891, 'Emma Watson', ['Marketing', 'Public Relations'])\n",
    "e2 = Employee(389712, 'John Doe', ['Software Development', 'Quality Assurance'])\n",
    "e3 = Employee(587301, 'Alice Johnson', ['Sales', 'Customer Relations'])\n",
    "\n",
    "e1, e2, e3"
   ]
  },
  {
   "cell_type": "code",
   "execution_count": 82,
   "id": "22da411a-e493-4d16-91a7-bd2eaa439eba",
   "metadata": {
    "tags": []
   },
   "outputs": [
    {
     "data": {
      "text/plain": [
       "('TVRJkEBQ', 'ALCCRkfB#y1Hf8dpeBxot#kP')"
      ]
     },
     "execution_count": 82,
     "metadata": {},
     "output_type": "execute_result"
    }
   ],
   "source": [
    "def generate_password(lenght: int) -> str:\n",
    "    chars = (string.ascii_letters\n",
    "            + string.digits\n",
    "            + r'!?*#')\n",
    "    \n",
    "    return ''.join(random.choices(chars, k=lenght))\n",
    "\n",
    "\n",
    "\n",
    "generate_password(8), generate_password(24)"
   ]
  },
  {
   "cell_type": "code",
   "execution_count": 85,
   "id": "ec8ce2bf-02d6-4ed1-bc5f-4a542c0b3f66",
   "metadata": {
    "tags": []
   },
   "outputs": [
    {
     "data": {
      "text/plain": [
       "('pG?Hl9mV', 'KHSP#iZT')"
      ]
     },
     "execution_count": 85,
     "metadata": {},
     "output_type": "execute_result"
    }
   ],
   "source": [
    "def generate_password_8chars():\n",
    "    return generate_password(8)\n",
    "\n",
    "generate_password_8chars(), generate_password_8chars()"
   ]
  },
  {
   "cell_type": "code",
   "execution_count": 89,
   "id": "4db6574a-f6e3-44bd-bdfb-4bf972222983",
   "metadata": {
    "tags": []
   },
   "outputs": [
    {
     "data": {
      "text/plain": [
       "(Employee(uid=245891, name='Emma Watson', groups=[], pw='uGhEvdm4'),\n",
       " Employee(uid=389712, name='John Doe', groups=[], pw='I_SET_IT_SDOPAODPAMSALS'),\n",
       " Employee(uid=587301, name='Alice Johnson', groups=['Sales', 'Customer Relations'], pw='n7xhRGPl'))"
      ]
     },
     "execution_count": 89,
     "metadata": {},
     "output_type": "execute_result"
    }
   ],
   "source": [
    "@dataclass\n",
    "class Employee:\n",
    "    uid: int\n",
    "    name: str\n",
    "    groups: list[str] = field(default_factory=list)\n",
    "    pw: str = field(default_factory=generate_password_8chars)\n",
    "    \n",
    "\n",
    "e1 = Employee(245891, 'Emma Watson', )\n",
    "e2 = Employee(389712, 'John Doe', pw='I_SET_IT_SDOPAODPAMSALS')\n",
    "e3 = Employee(587301, 'Alice Johnson', ['Sales', 'Customer Relations'])\n",
    "\n",
    "e1, e2, e3"
   ]
  },
  {
   "cell_type": "markdown",
   "id": "0883dda0-ff51-4f0c-b046-84eddc5608a4",
   "metadata": {
    "tags": []
   },
   "source": [
    "```python\n",
    "@dataclass\n",
    "class Employee:\n",
    "    uid: int\n",
    "    name: str\n",
    "    groups: list[str] = field(default_factory=list)\n",
    "    pw: str = field(default_factory=generate_password_8chars, init=False)  # new\n",
    "    \n",
    "\n",
    "e1 = Employee(245891, 'Emma Watson', )\n",
    "e2 = Employee(389712, 'John Doe', pw='I_SET_IT_SDOPAODPAMSALS')  # TypeError: Employee.__init__() got an unexpected keyword argument 'pw'\n",
    "e3 = Employee(587301, 'Alice Johnson', ['Sales', 'Customer Relations'])\n",
    "\n",
    "e1, e2, e3\n",
    "```"
   ]
  },
  {
   "cell_type": "code",
   "execution_count": null,
   "id": "bfcf6788-78e1-40d4-a7cb-7286911b8e3a",
   "metadata": {},
   "outputs": [],
   "source": []
  }
 ],
 "metadata": {
  "kernelspec": {
   "display_name": "Python 3 (ipykernel)",
   "language": "python",
   "name": "python3"
  },
  "language_info": {
   "codemirror_mode": {
    "name": "ipython",
    "version": 3
   },
   "file_extension": ".py",
   "mimetype": "text/x-python",
   "name": "python",
   "nbconvert_exporter": "python",
   "pygments_lexer": "ipython3",
   "version": "3.11.4"
  }
 },
 "nbformat": 4,
 "nbformat_minor": 5
}
