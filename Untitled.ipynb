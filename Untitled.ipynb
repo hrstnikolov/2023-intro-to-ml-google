{
 "cells": [
  {
   "cell_type": "code",
   "execution_count": 6,
   "id": "5d8b6049-ee60-4590-a3b2-f67e8967cfff",
   "metadata": {
    "tags": []
   },
   "outputs": [],
   "source": [
    "import json\n",
    "j = '''{\n",
    "    \"glossary\": {\n",
    "        \"title\": \"example glossary\",\n",
    "\t\t\"GlossDiv\": {\n",
    "            \"title\": \"S\",\n",
    "\t\t\t\"GlossList\": {\n",
    "                \"GlossEntry\": {\n",
    "                    \"ID\": \"SGML\",\n",
    "\t\t\t\t\t\"SortAs\": \"SGML\",\n",
    "\t\t\t\t\t\"GlossTerm\": \"Standard Generalized Markup Language\",\n",
    "\t\t\t\t\t\"Acronym\": \"SGML\",\n",
    "\t\t\t\t\t\"Abbrev\": \"ISO 8879:1986\",\n",
    "\t\t\t\t\t\"GlossDef\": {\n",
    "                        \"para\": \"A meta-markup language, used to create markup languages such as DocBook.\",\n",
    "\t\t\t\t\t\t\"GlossSeeAlso\": [\"GML\", \"XML\"]\n",
    "                    },\n",
    "\t\t\t\t\t\"GlossSee\": \"markup\"\n",
    "                }\n",
    "            }\n",
    "        }\n",
    "    }\n",
    "}'''"
   ]
  },
  {
   "cell_type": "code",
   "execution_count": 8,
   "id": "2da1bf47-bf85-4298-a8cb-2a25218bdebe",
   "metadata": {
    "tags": []
   },
   "outputs": [],
   "source": [
    "data = json.loads(j)"
   ]
  },
  {
   "cell_type": "code",
   "execution_count": 9,
   "id": "c6159ad1-4d1c-4630-8617-128e75241901",
   "metadata": {
    "tags": []
   },
   "outputs": [
    {
     "data": {
      "text/plain": [
       "{'title': 'example glossary',\n",
       " 'GlossDiv': {'title': 'S',\n",
       "  'GlossList': {'GlossEntry': {'ID': 'SGML',\n",
       "    'SortAs': 'SGML',\n",
       "    'GlossTerm': 'Standard Generalized Markup Language',\n",
       "    'Acronym': 'SGML',\n",
       "    'Abbrev': 'ISO 8879:1986',\n",
       "    'GlossDef': {'para': 'A meta-markup language, used to create markup languages such as DocBook.',\n",
       "     'GlossSeeAlso': ['GML', 'XML']},\n",
       "    'GlossSee': 'markup'}}}}"
      ]
     },
     "execution_count": 9,
     "metadata": {},
     "output_type": "execute_result"
    }
   ],
   "source": [
    "data['glossary']"
   ]
  },
  {
   "cell_type": "code",
   "execution_count": 10,
   "id": "ded6cb02-b8d6-4553-856e-1cc07d41a507",
   "metadata": {
    "tags": []
   },
   "outputs": [
    {
     "data": {
      "text/plain": [
       "'example glossary'"
      ]
     },
     "execution_count": 10,
     "metadata": {},
     "output_type": "execute_result"
    }
   ],
   "source": [
    "data['glossary']['title']"
   ]
  }
 ],
 "metadata": {
  "kernelspec": {
   "display_name": "Python 3 (ipykernel)",
   "language": "python",
   "name": "python3"
  },
  "language_info": {
   "codemirror_mode": {
    "name": "ipython",
    "version": 3
   },
   "file_extension": ".py",
   "mimetype": "text/x-python",
   "name": "python",
   "nbconvert_exporter": "python",
   "pygments_lexer": "ipython3",
   "version": "3.11.4"
  }
 },
 "nbformat": 4,
 "nbformat_minor": 5
}
